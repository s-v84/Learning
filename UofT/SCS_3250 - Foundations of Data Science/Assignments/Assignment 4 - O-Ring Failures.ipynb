{
 "cells": [
  {
   "cell_type": "markdown",
   "metadata": {},
   "source": [
    "# 3250 Foundations of Data Science – Homework Assignment 4\n",
    "### Space Shuttle Challenger and O-Ring"
   ]
  },
  {
   "cell_type": "markdown",
   "metadata": {},
   "source": [
    "#### Import Packages"
   ]
  },
  {
   "cell_type": "code",
   "execution_count": 15,
   "metadata": {
    "collapsed": true
   },
   "outputs": [],
   "source": [
    "#############################################\n",
    "## Import all of the packages that we need.\n",
    "#############################################\n",
    "import statsmodels.api as statsMod\n",
    "import pandas as pd\n",
    "import matplotlib.pyplot as pplot\n",
    "import math"
   ]
  },
  {
   "cell_type": "markdown",
   "metadata": {},
   "source": [
    "#### STEP 1: Read in the data"
   ]
  },
  {
   "cell_type": "code",
   "execution_count": 16,
   "metadata": {
    "collapsed": true
   },
   "outputs": [],
   "source": [
    "##############################\n",
    "## STEP 1: read in the data\n",
    "###\n",
    "rawData = '''6,0,66,50,1\n",
    "6,1,70,50,2\n",
    "6,0,69,50,3\n",
    "6,0,68,50,4\n",
    "6,0,67,50,5\n",
    "6,0,72,50,6\n",
    "6,0,73,100,7\n",
    "6,0,70,100,8\n",
    "6,1,57,200,9\n",
    "6,1,63,200,10\n",
    "6,1,70,200,11\n",
    "6,0,78,200,12\n",
    "6,0,67,200,13\n",
    "6,2,53,200,14\n",
    "6,0,67,200,15\n",
    "6,0,75,200,16\n",
    "6,0,70,200,17\n",
    "6,0,81,200,18\n",
    "6,0,76,200,19\n",
    "6,0,79,200,20\n",
    "6,2,75,200,21\n",
    "6,0,76,200,22\n",
    "6,1,58,200,23'''\n",
    "\n",
    "## Create a list to hold the column names\n",
    "dataAttrNames = ['NUMBER_OF_O_RINGS_AT_RISK_ON_A_GIVEN_FLIGHT',\n",
    "'NUMBER_EXPERIENCING_THERMAL_DISTRESS',\n",
    "'LAUNCH_TEMPERATURE_DEGREE_F',\n",
    "'LEAK_CHECK_PRESSURE_PSI',\n",
    "'TEMPORAL_ORDER_OF_FLIGHT']\n",
    "\n",
    "## Split on new-line\n",
    "rawLines = rawData.split(\"\\n\")\n",
    "## Split each line on comma\n",
    "dataList = [ line.split(\",\") for line in rawLines ]\n",
    "\n",
    "## All data elements are of type 'str'. Convert them to integers.\n",
    "for rowCounter in range(len(dataList)):\n",
    "    for colCounter in range(len(dataList[0])):\n",
    "        try:\n",
    "            dataList[rowCounter][colCounter] = int( dataList[rowCounter][colCounter] )\n",
    "        except:\n",
    "            pass\n",
    "\n",
    "## Cast the data as a pandas Data Frame\n",
    "oRingDataFrame = pd.DataFrame(data=dataList, columns=dataAttrNames)\n"
   ]
  },
  {
   "cell_type": "markdown",
   "metadata": {
    "collapsed": true
   },
   "source": [
    "#### STEP 2: Explore the data"
   ]
  },
  {
   "cell_type": "code",
   "execution_count": 17,
   "metadata": {},
   "outputs": [
    {
     "data": {
      "image/png": "[encoded data removed]",
      "text/plain": [
       "<matplotlib.figure.Figure at 0xca49dd8>"
      ]
     },
     "metadata": {},
     "output_type": "display_data"
    },
    {
     "data": {
      "image/png": "[encoded data removed]",
      "text/plain": [
       "<matplotlib.figure.Figure at 0xce1aac8>"
      ]
     },
     "metadata": {},
     "output_type": "display_data"
    }
   ],
   "source": [
    "##############################\n",
    "## STEP 2: do some analysis \n",
    "## to see if any patterns \n",
    "## emerge\n",
    "###\n",
    "\n",
    "## Plot the data to see if any patterns are immediately obvious.\n",
    "## First plot Launch Temp. vs. Num of oRings experiencing thermal distress.\n",
    "## ==> it looks like lower launch temperatures see more o-Rings failing.\n",
    "pplot.scatter(oRingDataFrame.LAUNCH_TEMPERATURE_DEGREE_F, oRingDataFrame.NUMBER_EXPERIENCING_THERMAL_DISTRESS,\n",
    "         marker='o',\n",
    "         edgecolor='b',\n",
    "         facecolor='none',\n",
    "         alpha=0.5 )\n",
    "pplot.xlabel('Launch Temp. [F]')\n",
    "pplot.ylabel('No. of O-Rings experiencing Thermal Distress')\n",
    "pplot.show()\n",
    "\n",
    "## Then plot Leak-Check Pressure vs. Num of oRings experiencing thermal distress\n",
    "## ==> it looks like higher pressures see more o-Rings failing.\n",
    "pplot.scatter(oRingDataFrame.LEAK_CHECK_PRESSURE_PSI, oRingDataFrame.NUMBER_EXPERIENCING_THERMAL_DISTRESS,\n",
    "         marker='o',\n",
    "         edgecolor='b',\n",
    "         facecolor='none',\n",
    "         alpha=0.5 )\n",
    "pplot.xlabel('Leak-Check Pressure [PSI]')\n",
    "pplot.ylabel('No. of O-Rings experiencing Thermal Distress')\n",
    "pplot.show()"
   ]
  },
  {
   "cell_type": "markdown",
   "metadata": {},
   "source": [
    "#### STEP 3A: Fit a linear regression model [Temperature only]"
   ]
  },
  {
   "cell_type": "code",
   "execution_count": 18,
   "metadata": {},
   "outputs": [
    {
     "name": "stdout",
     "output_type": "stream",
     "text": [
      "                                     OLS Regression Results                                     \n",
      "================================================================================================\n",
      "Dep. Variable:     NUMBER_EXPERIENCING_THERMAL_DISTRESS   R-squared:                       0.261\n",
      "Model:                                              OLS   Adj. R-squared:                  0.226\n",
      "Method:                                   Least Squares   F-statistic:                     7.426\n",
      "Date:                                  Sat, 15 Jul 2017   Prob (F-statistic):             0.0127\n",
      "Time:                                          00:11:17   Log-Likelihood:                -18.959\n",
      "No. Observations:                                    23   AIC:                             41.92\n",
      "Df Residuals:                                        21   BIC:                             44.19\n",
      "Df Model:                                             1                                         \n",
      "Covariance Type:                              nonrobust                                         \n",
      "===============================================================================================\n",
      "                                  coef    std err          t      P>|t|      [0.025      0.975]\n",
      "-----------------------------------------------------------------------------------------------\n",
      "const                           3.6984      1.220      3.033      0.006       1.162       6.235\n",
      "LAUNCH_TEMPERATURE_DEGREE_F    -0.0475      0.017     -2.725      0.013      -0.084      -0.011\n",
      "==============================================================================\n",
      "Omnibus:                       18.542   Durbin-Watson:                   2.116\n",
      "Prob(Omnibus):                  0.000   Jarque-Bera (JB):               21.747\n",
      "Skew:                           1.733   Prob(JB):                     1.90e-05\n",
      "Kurtosis:                       6.267   Cond. No.                         708.\n",
      "==============================================================================\n",
      "\n",
      "Warnings:\n",
      "[1] Standard Errors assume that the covariance matrix of the errors is correctly specified.\n"
     ]
    }
   ],
   "source": [
    "##############################\n",
    "## STEP 4A: fit a regression \n",
    "## model [Temperature & Pressure]\n",
    "predictors_1 = oRingDataFrame[['LAUNCH_TEMPERATURE_DEGREE_F']]\n",
    "predictors_1 = statsMod.add_constant(predictors_1, prepend=True)\n",
    "targetVariable = oRingDataFrame[['NUMBER_EXPERIENCING_THERMAL_DISTRESS']]\n",
    "oRingFailRegrModel_TempOnly = statsMod.OLS(targetVariable, predictors_1).fit()\n",
    "print oRingFailRegrModel_TempOnly.summary()"
   ]
  },
  {
   "cell_type": "markdown",
   "metadata": {},
   "source": [
    "#### STEP 3B: Predict o-Ring failures at Temperature = 31 degree-F"
   ]
  },
  {
   "cell_type": "code",
   "execution_count": 19,
   "metadata": {},
   "outputs": [
    {
     "name": "stdout",
     "output_type": "stream",
     "text": [
      "\n",
      "===================================\n",
      "==    Predictions [MODEL 1]      ==\n",
      "===================================\n",
      "\n",
      "   const  LAUNCH_TEMPERATURE_DEGREE_F  PREDICTED_NUM_O_RING_FAILURES\n",
      "0    1.0                           31                       2.224683\n",
      "\n",
      "At 31 degree-F, our model predicts that approx. 3.0 [2.22468253968] o-Rings are likely to suffer erosion or blowby.\n"
     ]
    }
   ],
   "source": [
    "## Prepare inputs for prediction\n",
    "inputsForPrediction_1 = pd.DataFrame({'LAUNCH_TEMPERATURE_DEGREE_F' : [31]})\n",
    "\n",
    "## Do the prediction\n",
    "## First add an intercept column\n",
    "inputsForPrediction_1 = statsMod.add_constant(inputsForPrediction_1, has_constant='add')\n",
    "\n",
    "inputsForPrediction_1['PREDICTED_NUM_O_RING_FAILURES'] = oRingFailRegrModel_TempOnly.predict(inputsForPrediction_1)\n",
    "\n",
    "\n",
    "print(\"\\n===================================\")\n",
    "print(\"==    Predictions [MODEL 1]      ==\")\n",
    "print(\"===================================\\n\")\n",
    "print inputsForPrediction_1\n",
    "\n",
    "print '\\nAt 31 degree-F, our model predicts that approx. ' + str(math.ceil(inputsForPrediction_1.PREDICTED_NUM_O_RING_FAILURES.mean())) + ' [' + str(inputsForPrediction_1.PREDICTED_NUM_O_RING_FAILURES.mean()) + '] o-Rings are likely to suffer erosion or blowby.'"
   ]
  },
  {
   "cell_type": "markdown",
   "metadata": {},
   "source": [
    "#### STEP 4A: Fit a linear regression model [Temperature & Pressure]"
   ]
  },
  {
   "cell_type": "code",
   "execution_count": 20,
   "metadata": {},
   "outputs": [
    {
     "name": "stdout",
     "output_type": "stream",
     "text": [
      "                                     OLS Regression Results                                     \n",
      "================================================================================================\n",
      "Dep. Variable:     NUMBER_EXPERIENCING_THERMAL_DISTRESS   R-squared:                       0.354\n",
      "Model:                                              OLS   Adj. R-squared:                  0.290\n",
      "Method:                                   Least Squares   F-statistic:                     5.490\n",
      "Date:                                  Sat, 15 Jul 2017   Prob (F-statistic):             0.0126\n",
      "Time:                                          00:11:18   Log-Likelihood:                -17.408\n",
      "No. Observations:                                    23   AIC:                             40.82\n",
      "Df Residuals:                                        20   BIC:                             44.22\n",
      "Df Model:                                             2                                         \n",
      "Covariance Type:                              nonrobust                                         \n",
      "===============================================================================================\n",
      "                                  coef    std err          t      P>|t|      [0.025      0.975]\n",
      "-----------------------------------------------------------------------------------------------\n",
      "const                           3.3298      1.188      2.803      0.011       0.851       5.808\n",
      "LAUNCH_TEMPERATURE_DEGREE_F    -0.0487      0.017     -2.910      0.009      -0.084      -0.014\n",
      "LEAK_CHECK_PRESSURE_PSI         0.0029      0.002      1.699      0.105      -0.001       0.007\n",
      "==============================================================================\n",
      "Omnibus:                       19.324   Durbin-Watson:                   2.390\n",
      "Prob(Omnibus):                  0.000   Jarque-Bera (JB):               23.471\n",
      "Skew:                           1.782   Prob(JB):                     8.00e-06\n",
      "Kurtosis:                       6.433   Cond. No.                     1.84e+03\n",
      "==============================================================================\n",
      "\n",
      "Warnings:\n",
      "[1] Standard Errors assume that the covariance matrix of the errors is correctly specified.\n",
      "[2] The condition number is large, 1.84e+03. This might indicate that there are\n",
      "strong multicollinearity or other numerical problems.\n"
     ]
    }
   ],
   "source": [
    "##############################\n",
    "## STEP 4A: fit a regression \n",
    "## model [Temperature & Pressure]\n",
    "predictors_2 = oRingDataFrame[['LAUNCH_TEMPERATURE_DEGREE_F', 'LEAK_CHECK_PRESSURE_PSI']]\n",
    "predictors_2 = statsMod.add_constant(predictors_2, prepend=True)\n",
    "targetVariable = oRingDataFrame[['NUMBER_EXPERIENCING_THERMAL_DISTRESS']]\n",
    "oRingFailRegrModel_tempAndPress = statsMod.OLS(targetVariable, predictors_2).fit()\n",
    "print oRingFailRegrModel_tempAndPress.summary()"
   ]
  },
  {
   "cell_type": "markdown",
   "metadata": {},
   "source": [
    "#### STEP 4B: Predict o-Ring failures at Temperature = 31 deg. F & Pressure in [0, 100, 150, 200] PSI"
   ]
  },
  {
   "cell_type": "code",
   "execution_count": 21,
   "metadata": {},
   "outputs": [
    {
     "name": "stdout",
     "output_type": "stream",
     "text": [
      "\n",
      "===================================\n",
      "==    Predictions [MODEL 2]      ==\n",
      "===================================\n",
      "\n",
      "   const  LAUNCH_TEMPERATURE_DEGREE_F  LEAK_CHECK_PRESSURE_PSI  \\\n",
      "0    1.0                           31                        0   \n",
      "1    1.0                           31                       50   \n",
      "2    1.0                           31                      100   \n",
      "3    1.0                           31                      200   \n",
      "\n",
      "   PREDICTED_NUM_O_RING_FAILURES  \n",
      "0                       1.821027  \n",
      "1                       1.967993  \n",
      "2                       2.114959  \n",
      "3                       2.408892  \n",
      "\n",
      "At 31 degree-F, Model 2 predicts that approx. 3.0 [2.07821785829] o-Rings are likely to suffer erosion or blowby.\n"
     ]
    }
   ],
   "source": [
    "## Prepare inputs for prediction\n",
    "inputsForPrediction_2 = pd.DataFrame({'LAUNCH_TEMPERATURE_DEGREE_F' : [31,31,31,31], 'LEAK_CHECK_PRESSURE_PSI' : [0,50,100,200]})\n",
    "\n",
    "## Do the prediction\n",
    "## First add an intercept column\n",
    "inputsForPrediction_2 = statsMod.add_constant(inputsForPrediction_2, has_constant='add')\n",
    "\n",
    "inputsForPrediction_2['PREDICTED_NUM_O_RING_FAILURES'] = oRingFailRegrModel_tempAndPress.predict(inputsForPrediction_2)\n",
    "\n",
    "print(\"\\n===================================\")\n",
    "print(\"==    Predictions [MODEL 2]      ==\")\n",
    "print(\"===================================\\n\")\n",
    "print inputsForPrediction_2\n",
    "\n",
    "print '\\nAt 31 degree-F, Model 2 predicts that approx. ' + str(math.ceil(inputsForPrediction_2.PREDICTED_NUM_O_RING_FAILURES.mean())) + ' [' + str(inputsForPrediction_2.PREDICTED_NUM_O_RING_FAILURES.mean()) + '] o-Rings are likely to suffer erosion or blowby.'"
   ]
  }
 ],
 "metadata": {
  "kernelspec": {
   "display_name": "Python 3",
   "language": "python",
   "name": "python3"
  },
  "language_info": {
   "codemirror_mode": {
    "name": "ipython",
    "version": 3
   },
   "file_extension": ".py",
   "mimetype": "text/x-python",
   "name": "python",
   "nbconvert_exporter": "python",
   "pygments_lexer": "ipython3",
   "version": "3.6.1"
  }
 },
 "nbformat": 4,
 "nbformat_minor": 2
}
