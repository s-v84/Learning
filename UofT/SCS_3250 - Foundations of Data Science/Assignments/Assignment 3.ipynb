{
 "cells": [
  {
   "cell_type": "markdown",
   "metadata": {},
   "source": [
    "# 3250 Foundations of Data Science – Homework Assignment 3\n",
    "### Option 2 - Birthday Paradox"
   ]
  },
  {
   "cell_type": "code",
   "execution_count": 14,
   "metadata": {
    "collapsed": true
   },
   "outputs": [],
   "source": [
    "# The has_duplicates function loops through a list of numbers and returns True if a value occurs more than once\n",
    "# in the list. \n",
    "# If the list contains only unique values, it returns False.\n",
    "\n",
    "def has_duplicates(lst_of_nums):\n",
    "    # first create a copy of the input\n",
    "    lst_of_nums_copy = lst_of_nums[:]\n",
    "    lst_of_nums_copy.sort()\n",
    "    \n",
    "    dup_num_index = 0\n",
    "    lst_of_dup_nums = []\n",
    "    \n",
    "    # loop through the list\n",
    "    for i in range(len(lst_of_nums_copy)-1):\n",
    "        if lst_of_nums_copy[i] == lst_of_nums_copy[i+1]:\n",
    "            #a match was found - add to the list of duplicates\n",
    "            return True\n",
    "\n",
    "    return False"
   ]
  },
  {
   "cell_type": "code",
   "execution_count": 15,
   "metadata": {
    "collapsed": true
   },
   "outputs": [],
   "source": [
    "# The get_lst_of_duplicates function loops through an array of numbers and returns another array of \n",
    "# numbers that occur more than once in the original array.\n",
    "\n",
    "def get_lst_of_duplicates(lst_of_nums):\n",
    "    # first create a copy of the input\n",
    "    lst_of_nums_1 = lst_of_nums[:]\n",
    "    lst_of_nums_1.sort()\n",
    "    \n",
    "    dup_num_index = 0\n",
    "    lst_of_dup_nums = []\n",
    "    \n",
    "    # loop through the list\n",
    "    for i in range(len(lst_of_nums_1)-1):\n",
    "        if lst_of_nums_1[i] == lst_of_nums_1[i+1]:\n",
    "            #a match was found - add to the list of duplicates\n",
    "            lst_of_dup_nums.append(lst_of_nums_1[i])\n",
    "            dup_num_index += 1\n",
    "            \n",
    "    return lst_of_dup_nums"
   ]
  },
  {
   "cell_type": "code",
   "execution_count": 16,
   "metadata": {
    "collapsed": true
   },
   "outputs": [],
   "source": [
    "# The validate_integer_input checks that two specific conditions are satisfied:\n",
    "# (1) the supplied input is an instance of the 'int' class AND\n",
    "# (2) the supplied input is a positive non-zero integer\n",
    "# If either condition is not satisfied, it returns False. \n",
    "\n",
    "def validate_integer_input(integer_input):\n",
    "    if (not(isinstance(integer_input,int)) or (integer_input <= 0)):\n",
    "        return False\n",
    "    else:\n",
    "        return True"
   ]
  },
  {
   "cell_type": "code",
   "execution_count": 17,
   "metadata": {
    "collapsed": true
   },
   "outputs": [],
   "source": [
    "# The generate_random_bdays takes an integer input: the size of the class. It then generates an integer\n",
    "# list of randomly generated integers between 1 and 365 that represent birthdays as days of a year.\n",
    "# It first validates that class_size is a positive non-zero integer value and then generates and returns\n",
    "# an integer list of the same length as class_size\n",
    "import random\n",
    "\n",
    "def generate_random_bdays(class_size):\n",
    "    \n",
    "    if not(validate_integer_input(class_size)):\n",
    "        print '\"' + str(class_size) + '\" is not a valid input! Please enter a positive integer value for the class size.'\n",
    "        return\n",
    "        \n",
    "    list_of_bdays = []\n",
    "    \n",
    "    for counter in range(class_size):\n",
    "        list_of_bdays.append(random.randint(1, 365))\n",
    "        \n",
    "    return list_of_bdays\n"
   ]
  },
  {
   "cell_type": "code",
   "execution_count": 18,
   "metadata": {
    "collapsed": true
   },
   "outputs": [],
   "source": [
    "# The run_bday_paradox_simulations function takes two arguments:\n",
    "# num_sims: the number of simulations to run AND\n",
    "# class_size: the number of students in the class\n",
    "# It first validates both input arguments to ensure that they are positive, non-zero integers and then runs\n",
    "# the specified number of simulations to examine the birthday paradox. For each iteration/simulation, it prints \n",
    "# the number of duplicate birthdays and the list of duplicate birthdays if there were any.\n",
    "def run_bday_paradox_simulations(num_sims, class_size):\n",
    "    if not(validate_integer_input(num_sims)):\n",
    "        print '\"' + str(num_sims) + '\" is not a valid input! Please enter a positive integer value for the number of simulations to run.'\n",
    "        return\n",
    "    elif not(validate_integer_input(class_size)):\n",
    "        print '\"' + str(class_size) + '\" is not a valid input! Please enter a positive integer value for the class size.'\n",
    "        return\n",
    "    else: \n",
    "        print '========================================='\n",
    "        print 'Number of simulations: ' + str(num_sims) + '. Class Size: ' + str(class_size)\n",
    "        print '=========================================\\n'\n",
    "        num_sims_with_dup_bdays = 0\n",
    "        for sim_index in range(num_sims):\n",
    "            # first generate a list of random birthdays for the specified class size\n",
    "            next_random_bdays_lst = generate_random_bdays(class_size)\n",
    "            # then find the list of duplicate birthdays if any\n",
    "            next_dup_bdays_lst = get_lst_of_duplicates(next_random_bdays_lst)\n",
    "            # then print the results for each simlation\n",
    "            print 'Simulation #' + str(sim_index+1) + ' contained ' + str(len(next_dup_bdays_lst)) + ' duplicate birthdays.'\n",
    "            if (len(next_dup_bdays_lst) > 0):\n",
    "                num_sims_with_dup_bdays += 1\n",
    "                print '==> List of Duplicate Birthdays:' + str(next_dup_bdays_lst)\n",
    "            print '\\n'   \n",
    "            \n",
    "        print 'Summary: in ' + str(num_sims) + ' simulations with ' +str(class_size) + ' students, there were ' + str(num_sims_with_dup_bdays) + ' simulations (' + str(num_sims_with_dup_bdays*100/num_sims) + '%) with at least one shared birthday'\n",
    "        print '--------'"
   ]
  },
  {
   "cell_type": "code",
   "execution_count": 19,
   "metadata": {},
   "outputs": [
    {
     "name": "stdout",
     "output_type": "stream",
     "text": [
      "=========================================\n",
      "Number of simulations: 4. Class Size: 45\n",
      "=========================================\n",
      "\n",
      "Simulation #1 contained 2 duplicate birthdays.\n",
      "==> List of Duplicate Birthdays:[3, 329]\n",
      "\n",
      "\n",
      "Simulation #2 contained 2 duplicate birthdays.\n",
      "==> List of Duplicate Birthdays:[42, 102]\n",
      "\n",
      "\n",
      "Simulation #3 contained 0 duplicate birthdays.\n",
      "\n",
      "\n",
      "Simulation #4 contained 4 duplicate birthdays.\n",
      "==> List of Duplicate Birthdays:[64, 91, 99, 295]\n",
      "\n",
      "\n",
      "Summary: in 4 simulations with 45 students, there were 3 simulations (75%) with at least one shared birthday\n",
      "--------\n"
     ]
    }
   ],
   "source": [
    "## Test our birthday simulation function\n",
    "## 4 simulations for a class size of 45                \n",
    "run_bday_paradox_simulations(4, 45)"
   ]
  },
  {
   "cell_type": "code",
   "execution_count": null,
   "metadata": {
    "collapsed": true
   },
   "outputs": [],
   "source": []
  }
 ],
 "metadata": {
  "kernelspec": {
   "display_name": "Python 3",
   "language": "python",
   "name": "python3"
  },
  "language_info": {
   "codemirror_mode": {
    "name": "ipython",
    "version": 3
   },
   "file_extension": ".py",
   "mimetype": "text/x-python",
   "name": "python",
   "nbconvert_exporter": "python",
   "pygments_lexer": "ipython3",
   "version": "3.6.1"
  }
 },
 "nbformat": 4,
 "nbformat_minor": 2
}
