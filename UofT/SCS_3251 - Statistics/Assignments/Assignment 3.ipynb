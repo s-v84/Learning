{
 "cells": [
  {
   "cell_type": "markdown",
   "metadata": {},
   "source": [
    "###### Step 1: Import all required libraries"
   ]
  },
  {
   "cell_type": "code",
   "execution_count": 29,
   "metadata": {
    "collapsed": true
   },
   "outputs": [],
   "source": [
    "import datetime\n",
    "import matplotlib.pyplot as plt\n",
    "from IPython.display import Markdown, display\n",
    "import numpy as np\n",
    "from numpy import random\n",
    "import scipy as sp\n",
    "from scipy.stats import norm\n",
    "import math\n",
    "%matplotlib inline"
   ]
  },
  {
   "cell_type": "markdown",
   "metadata": {},
   "source": [
    "###### 3.8, (3 points)\n",
    "CAPM. The Capital Asset Pricing Model (CAPM) is a financial model that assumes returns on a portfolio are normally distributed. Suppose a portfolio has an average annual return of 14.7% (i.e. an average gain of 14.7%) with a standard deviation of 33%. A return of 0% means the value of the portfolio doesn’t change, a negative return means that the portfolio loses money, and a positive return means that the portfolio gains money. \n",
    "Using the properties of the normal distribution please calculate:\n",
    "\n",
    "a)\tWhat percent of years does this portfolio lose money, i.e. have a return less than 0%? \n",
    "\n",
    "b)\tWhat is the cutoff for the highest 15% of annual returns with this portfolio? \n",
    "\n",
    "c)\tCalculate A and B by using simulation techniques.\n"
   ]
  },
  {
   "cell_type": "code",
   "execution_count": 22,
   "metadata": {},
   "outputs": [
    {
     "name": "stdout",
     "output_type": "stream",
     "text": [
      "(a) Percent of years with (return < 0%): 32.8\n",
      "\n",
      "(b) Cutoff value for top 15% of returns: 48.9%\n",
      "\n",
      "(c) First two parts solved using simulation techniques:\n",
      "\n",
      "\t(i) Percent of years with (return < 0%): 0.0\n",
      "\n",
      "\t(ii) Cutoff value for top 15% of returns: 48.05%\n"
     ]
    },
    {
     "data": {
      "image/png": "[encoded data removed]",
      "text/plain": [
       "<matplotlib.figure.Figure at 0x9caa048>"
      ]
     },
     "metadata": {},
     "output_type": "display_data"
    }
   ],
   "source": [
    "#3.8: Calculations\n",
    "avgAnnualReturn = 0.147\n",
    "stdDev = 0.33\n",
    "\n",
    "## (a)What percent of years does this portfolio lose money, i.e. have a return less than 0%?\n",
    "targetReturn = 0\n",
    "probability_0_Returns = norm.cdf(targetReturn, avgAnnualReturn, stdDev)\n",
    "print \"(a) Percent of years with (return < 0%): \" + str(round(probability_0_Returns * 100, 2))\n",
    "\n",
    "## (b) What is the cutoff for the highest 15% of annual returns with this portfolio? \n",
    "percentile = (1 - 0.15)\n",
    "zScore = norm.ppf(percentile)\n",
    "cutoffValue = (zScore * stdDev) + avgAnnualReturn\n",
    "print \"\\n(b) Cutoff value for top 15% of returns: \" + str(round(cutoffValue * 100, 2)) + \"%\"\n",
    "\n",
    "## (c) Calculate A and B by using simulation techniques.\n",
    "print \"\\n(c) First two parts solved using simulation techniques:\"\n",
    "# Step C1: Set seed\n",
    "random.seed(12345)\n",
    "# Step C2: generate a list of 1000 normally distributed simulated returns for the portfolio\n",
    "simulatedReturns_1000 = random.normal(avgAnnualReturn, stdDev, 1000)\n",
    "# Step C4: sort the array in ascending order\n",
    "simulatedReturns_1000 = np.sort(simulatedReturns_1000)\n",
    "\n",
    "# Step C5: find the percentage of simulated values that are less than 0\n",
    "zeroReturnsList = simulatedReturns_1000[np.where(simulatedReturns_1000 < 0)]\n",
    "percentZeroReturns = len(zeroReturnsList)/len(simulatedReturns_1000)\n",
    "print \"\\n\\t(i) Percent of years with (return < 0%): \" + str(round(percentZeroReturns * 100, 2))\n",
    "\n",
    "# Step C6: to find the cut-off for the top 15%, we will pick the 850th value in the sorted array\n",
    "cutOffValue_Simulated = simulatedReturns_1000[849]\n",
    "print \"\\n\\t(ii) Cutoff value for top 15% of returns: \" + str(round(cutOffValue_Simulated * 100, 2)) + \"%\" \n",
    "\n",
    "# Step C3: Set seed\n",
    "plt.hist(simulatedReturns_1000, normed=1)\n",
    "plt.title(\"Simulated returns for portfolio\", fontdict=dict(weight='bold'))\n",
    "plt.axvline(x = avgAnnualReturn, color = 'white', linestyle='dashed')\n",
    "plt.text(avgAnnualReturn + 0.05,0.9,'Mean Annual Return: ' + str(avgAnnualReturn * 100) +'%',rotation=90, fontdict=dict(weight='bold'))\n",
    "plt.axvline(x = 0, color = 'red', linestyle='dashed')\n",
    "plt.text(0.05,0.9,'Rate of return = 0%',rotation=90, fontdict=dict(weight='bold'))\n",
    "plt.axvline(x = cutOffValue_Simulated, color = 'red', linestyle='dashed')\n",
    "plt.text(cutOffValue_Simulated + 0.05,0.9,'Cutoff for top 15%: ' + str(round(cutOffValue_Simulated * 100, 2)) +'%',rotation=90, fontdict=dict(weight='bold'))\n",
    "plt.axvline(x = avgAnnualReturn, color = 'white', linestyle='dashed')\n",
    "plt.xlabel(\"Rate of return (%)\", fontdict=dict(weight='bold'))\n",
    "plt.ylabel(\"Probability of occurrence\", fontdict=dict(weight='bold'))\n",
    "plt.show()"
   ]
  },
  {
   "cell_type": "markdown",
   "metadata": {},
   "source": [
    "###### 3.17, 3.31, (2 points)\n",
    "Game of dreidel. A dreidel is a four-sided spinning top with the Hebrew letters nun, gimel, hei, and shin, one on each side. Each side is equally likely to come up in a single spin of the dreidel. Suppose you spin a dreidel three times. Calculate the probability of getting: \n",
    "\n",
    "a)\tat least one nun?\n",
    "\n",
    "b)\texactly 2 nuns? \n",
    "\n",
    "c)\texactly 1 hei?\n",
    "\n",
    "d)\tat most 2 gimels? \n",
    "\n",
    "e)\tCalculate a, b, c and d using simulation techniques.\n"
   ]
  }
 ],
 "metadata": {
  "kernelspec": {
   "display_name": "Python 3",
   "language": "python",
   "name": "python3"
  },
  "language_info": {
   "codemirror_mode": {
    "name": "ipython",
    "version": 3
   },
   "file_extension": ".py",
   "mimetype": "text/x-python",
   "name": "python",
   "nbconvert_exporter": "python",
   "pygments_lexer": "ipython3",
   "version": "3.6.1"
  }
 },
 "nbformat": 4,
 "nbformat_minor": 1
}
