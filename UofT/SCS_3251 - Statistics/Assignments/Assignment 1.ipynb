{
 "cells": [
  {
   "cell_type": "markdown",
   "metadata": {},
   "source": [
    "## SCS_3251_003: Statistics for Data Science\n",
    "#### <font color ='blue'>Assignment 1 - Beer Consumption & Attractiveness to Mosquitoes</font>"
   ]
  },
  {
   "cell_type": "markdown",
   "metadata": {},
   "source": [
    "###### Step 1: Import all required libraries"
   ]
  },
  {
   "cell_type": "code",
   "execution_count": 1,
   "metadata": {
    "collapsed": true
   },
   "outputs": [],
   "source": [
    "import pandas as pd\n",
    "import matplotlib.pyplot as plt\n",
    "from IPython.display import Markdown, display\n",
    "import random as rndm\n",
    "import numpy as np\n",
    "import scipy.stats as st\n",
    "%matplotlib inline"
   ]
  },
  {
   "cell_type": "markdown",
   "metadata": {},
   "source": [
    "###### Step 2: Read in the data and split beer and water treatment observations into separate datasets"
   ]
  },
  {
   "cell_type": "code",
   "execution_count": 2,
   "metadata": {
    "collapsed": true
   },
   "outputs": [],
   "source": [
    "allObservations = pd.read_csv(\"C:/Users/clockwork/Downloads/mosquitos_data.csv\", sep=',',)\n",
    "beerTrtmtObservations = allObservations[allObservations.Treatment == \"Beer\"]\n",
    "waterTrtmtObservations = allObservations[allObservations.Treatment == \"Water\"]"
   ]
  },
  {
   "cell_type": "markdown",
   "metadata": {},
   "source": [
    "###### Step 3: Investigate relationship between beer consumption and attractiveness to mosquitoes"
   ]
  },
  {
   "cell_type": "code",
   "execution_count": 3,
   "metadata": {},
   "outputs": [
    {
     "data": {
      "image/png": "[encoded data removed]",
      "text/plain": [
       "<matplotlib.figure.Figure at 0x3c48da0>"
      ]
     },
     "metadata": {},
     "output_type": "display_data"
    },
    {
     "data": {
      "text/markdown": [
       "**Mosquitoes trapped under Water Treatment:**"
      ],
      "text/plain": [
       "<IPython.core.display.Markdown object>"
      ]
     },
     "metadata": {},
     "output_type": "display_data"
    },
    {
     "name": "stdout",
     "output_type": "stream",
     "text": [
      "          count       mean      std   min   25%   50%   75%   max\n",
      "Response   18.0  19.222222  3.67112  12.0  16.5  20.0  22.0  24.0\n"
     ]
    },
    {
     "data": {
      "text/markdown": [
       "**Mosquitoes trapped under Beer Treatment:**"
      ],
      "text/plain": [
       "<IPython.core.display.Markdown object>"
      ]
     },
     "metadata": {},
     "output_type": "display_data"
    },
    {
     "name": "stdout",
     "output_type": "stream",
     "text": [
      "          count  mean       std   min   25%   50%   75%   max\n",
      "Response   25.0  23.6  4.133199  17.0  20.0  24.0  27.0  31.0\n"
     ]
    }
   ],
   "source": [
    "## Step 3A: Make boxplots for the data\n",
    "plt.boxplot([waterTrtmtObservations.Response, beerTrtmtObservations.Response])\n",
    "plt.title(\"Attractiveness to Mosquitoes: Water vs. Beer consumption\", fontdict=dict(weight='bold'))\n",
    "plt.xlabel(\"Treatment Type\", fontdict=dict(weight='bold'))\n",
    "plt.ylabel(\"Count of mosquitoes trapped\", fontdict=dict(weight='bold'))\n",
    "plt.xticks([1, 2], ['Water', 'Beer'])\n",
    "plt.show()\n",
    "\n",
    "## Step 3B: describe the data\n",
    "display(Markdown(\"**Mosquitoes trapped under Water Treatment:**\"))\n",
    "print(waterTrtmtObservations.describe().transpose())\n",
    "display(Markdown(\"**Mosquitoes trapped under Beer Treatment:**\"))\n",
    "print(beerTrtmtObservations.describe().transpose())"
   ]
  },
  {
   "cell_type": "markdown",
   "metadata": {},
   "source": [
    "###### Interpretation of data:\n",
    "From the box-plot and summary statistics above, it seems apparent that mosquitoes have a somewhat greater affinity for people who have consumed beer as compared to people who have consumed water.\n",
    "\n",
    "__Means & Medians__:\n",
    "On average, __4.4__ additional mosquitoes were found in the trap when partipants had consumed beer as compared to when participants had consumed water, representing an increase of about __23%__.\n",
    "\n",
    "The difference in __median__ values (represented by the _second quartile_ values for each case: __24__ and __20__) also show a similiar level of difference: __4__ more mosquitoes under the beer treatment compared to water representing a __20%__ increase.\n",
    "\n",
    "The 1st and 3rd quartlie values (20 and 27 respectively) under beer treatment are also greater respectively than those under water treatment (16.5 and 22).\n",
    "\n",
    "__Inference:__\n",
    "\n",
    "Given that the number of mosquitoes trapped is consistently higher in the case of participants that consumed beer as compared to participants who consumed water, it seems likely that there is some sort of correlation between beer consumption and attractiveness to mosquitoes."
   ]
  },
  {
   "cell_type": "markdown",
   "metadata": {},
   "source": [
    "##### Step 4: Simulate 'randomly' generated groups of data to test relationship between beer consumption and attractiveness to mosquitoes"
   ]
  },
  {
   "cell_type": "code",
   "execution_count": 5,
   "metadata": {},
   "outputs": [
    {
     "data": {
      "image/png": "[encoded data removed]",
      "text/plain": [
       "<matplotlib.figure.Figure at 0xba39b00>"
      ]
     },
     "metadata": {},
     "output_type": "display_data"
    },
    {
     "data": {
      "text/markdown": [
       "**Probability that the difference between group means is >= 4.4: 0.119%**"
      ],
      "text/plain": [
       "<IPython.core.display.Markdown object>"
      ]
     },
     "metadata": {},
     "output_type": "display_data"
    }
   ],
   "source": [
    "# 4A: make a copy of the full list of observations so we don't alter the original data frame\n",
    "responseList = pd.Series.copy(allObservations.loc[:, 'Response'], deep=True)\n",
    "\n",
    "listOfDiffs = pd.Series([])\n",
    "rndm.seed(12345)\n",
    "for simCounter in range(0, 50000):\n",
    "    #Shuffle the list\n",
    "    rndm.shuffle(responseList)\n",
    "    #Set the first 20 elements as Group 1 and the remaining as Group 2\n",
    "    listOfDiffs.set_value(simCounter, (np.mean(responseList[0:20])- np.mean(responseList[20:43])))\n",
    "    \n",
    "# 4B: plot a histogram with the differences in means of both groups on the x axis and the probability of occurence\n",
    "# on the y-axis.\n",
    "plt.hist(listOfDiffs, normed=1)\n",
    "plt.axvline(x = 4.4, color = 'r', linestyle='dashed')\n",
    "plt.title(\"Differences between random group means\", fontdict=dict(weight='bold'))\n",
    "plt.xlabel(\"Value\", fontdict=dict(weight='bold'))\n",
    "plt.ylabel(\"Probability of occurrence\", fontdict=dict(weight='bold'))\n",
    "\n",
    "# 4C: the data appears to be randomly distributed - calculate the probability that the difference between randomly\n",
    "# generated group means is >= 4.4\n",
    "probability = round(st.norm.sf((4.4 - np.mean(listOfDiffs))/np.std(listOfDiffs))*2*100, 4)\n",
    "plt.text(4.5,0.25,'Probability [X >= 4.4]: ' + str(probability) +'%',rotation=90, fontdict=dict(weight='bold'))\n",
    "plt.xticks(list(plt.xticks()[0]) + [6] )\n",
    "plt.show()    \n",
    "\n",
    "display(Markdown(\"**Probability that the difference between group means is >= 4.4: \"+ str(probability) +\"%**\"))"
   ]
  },
  {
   "cell_type": "markdown",
   "metadata": {},
   "source": [
    "###### Interpretation of histogram:\n",
    "It is apparent from the plot above that the probability that the differences between the means of the two groups is greater than or equal to the observed value of __4.4__ could have occured __purely by chance__ is extremely low.\n",
    "\n",
    "Thus, we conclude that there is a very strong possibility that beer consumption makes humans more attractive to mosquitoes."
   ]
  }
 ],
 "metadata": {
  "kernelspec": {
   "display_name": "Python 3",
   "language": "python",
   "name": "python3"
  },
  "language_info": {
   "codemirror_mode": {
    "name": "ipython",
    "version": 3
   },
   "file_extension": ".py",
   "mimetype": "text/x-python",
   "name": "python",
   "nbconvert_exporter": "python",
   "pygments_lexer": "ipython3",
   "version": "3.6.1"
  }
 },
 "nbformat": 4,
 "nbformat_minor": 1
}
